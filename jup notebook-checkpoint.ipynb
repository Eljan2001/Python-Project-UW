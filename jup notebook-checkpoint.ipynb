{
 "cells": [
  {
   "cell_type": "code",
   "execution_count": 19,
   "id": "fa23bd74",
   "metadata": {},
   "outputs": [],
   "source": [
    "import os\n",
    "import requests\n",
    "os.chdir(r'C:\\Users\\PC\\Desktop\\mapnew')"
   ]
  },
  {
   "cell_type": "code",
   "execution_count": 22,
   "id": "210609d7",
   "metadata": {
    "scrolled": true
   },
   "outputs": [
    {
     "ename": "ImportError",
     "evalue": "cannot import name 'app' from 'flask_app' (C:\\Users\\PC\\Desktop\\mapnew\\flask_app.py)",
     "output_type": "error",
     "traceback": [
      "\u001b[1;31m---------------------------------------------------------------------------\u001b[0m",
      "\u001b[1;31mImportError\u001b[0m                               Traceback (most recent call last)",
      "Cell \u001b[1;32mIn[22], line 1\u001b[0m\n\u001b[1;32m----> 1\u001b[0m \u001b[38;5;28;01mfrom\u001b[39;00m \u001b[38;5;21;01mflask_app\u001b[39;00m \u001b[38;5;28;01mimport\u001b[39;00m app  \u001b[38;5;66;03m# Import the Flask app object\u001b[39;00m\n\u001b[0;32m      3\u001b[0m \u001b[38;5;28;01mimport\u001b[39;00m \u001b[38;5;21;01mnest_asyncio\u001b[39;00m\n\u001b[0;32m      4\u001b[0m nest_asyncio\u001b[38;5;241m.\u001b[39mapply()  \u001b[38;5;66;03m# Ensure compatibility with Jupyter\u001b[39;00m\n",
      "\u001b[1;31mImportError\u001b[0m: cannot import name 'app' from 'flask_app' (C:\\Users\\PC\\Desktop\\mapnew\\flask_app.py)"
     ]
    }
   ],
   "source": [
    "from flask_app import app  # Import the Flask app object\n",
    "\n",
    "import nest_asyncio\n",
    "nest_asyncio.apply()  # Ensure compatibility with Jupyter\n",
    "\n",
    "# Run the Flask app\n",
    "app.run(debug=True, use_reloader=False)"
   ]
  }
 ],
 "metadata": {
  "kernelspec": {
   "display_name": "Python 3 (ipykernel)",
   "language": "python",
   "name": "python3"
  },
  "language_info": {
   "codemirror_mode": {
    "name": "ipython",
    "version": 3
   },
   "file_extension": ".py",
   "mimetype": "text/x-python",
   "name": "python",
   "nbconvert_exporter": "python",
   "pygments_lexer": "ipython3",
   "version": "3.11.4"
  }
 },
 "nbformat": 4,
 "nbformat_minor": 5
}
